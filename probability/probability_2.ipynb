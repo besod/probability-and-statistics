{
 "cells": [
  {
   "cell_type": "code",
   "execution_count": null,
   "id": "3de1e5c2",
   "metadata": {
    "vscode": {
     "languageId": "plaintext"
    }
   },
   "outputs": [],
   "source": []
  },
  {
   "cell_type": "markdown",
   "id": "c50fe3f1",
   "metadata": {},
   "source": [
    "Basic probability concepts 2\n",
    "##### Measures of Location/central tendency(Lägesmått)\n",
    "- ###### Expected value, mean(Väntevärde)\n",
    "###### For a **discrete random variable X**: $$E(X) = \\sum xp_X(x) $$\n",
    "###### $$ E(g(X)) = \\sum g(x)p_X(x) $$\n",
    "###### For a **continuous random variable X**: $$ E(X) = \\int_{-\\infty}^{\\infty}xf_X(x)dx $$\n",
    "###### $$ E(g(X)) = \\int_{-\\infty}^{\\infty}g(x)f_X(x)dx $$\n",
    "######  **E(X+Y) = E(X) + E(Y)** --- Liniarity of expectation(linjäritet av väntevärden)\n",
    "###### **E(a+bX)= a+bE(X)** -- The expected value of a linear transformation\n",
    "\n",
    "##### **Median**\n",
    "\n",
    "###### $$ P(X\\leq m_0.5) \\geq 1/2,$$\n",
    "###### $$ P(X < m_0.5) \\leq 1/2 $$\n",
    "- ###### For continuous variables: $$ F_X(m_0.5) = 1/2 $$\n",
    "\n",
    "##### **Variance(Varians):**\n",
    "\n",
    "###### A measure of how spread out a distribution is. Ahigher variance means more spread\n",
    "###### $$ V(X) = Var(X) = \\sigma^2 $$ $$ V(x) = E((X-\\mu^2)) = E(X^2)-(E(X)^2) $$\n",
    "###### **Existence of Variance**: requires the existence of the mean and of $E(X^2)$\n",
    "###### $V(X)\\geq 0$\n",
    "###### $V(X) = 0$ <=> **X** is **deterministic:** zero variance means no randomness; the variable's value is fixed\n",
    "\n",
    "##### **Standard Deviation(Standardavvikelse):**\n",
    "\n",
    "###### a measure of the typical distance of a random variable's values from its mean. $$ D(X) = \\sqrt{V(X)} = \\sqrt{\\sigma^2}$$\n",
    "###### Adding a constant b to a random variable does not change its variance or standard deviation .\n",
    "###### Scaling: $$  D(aX+b)=\\sqrt{V(aX+b)} = \\sqrt{a^2V(X)} = |a|\\sqrt{V(X)} = |a|D(X)  $$\n",
    "###### sum of two RVs:\n",
    "###### $$V(X+Y)=E(X^2 +2XY+Y^2)−(E(X)+E(Y))^2 = (E(X^2) - (E(X))^2) + (E(Y^2) - (E(Y))^2) + 2(E(XY) - E(X)E(Y)) $$ $$C(X,Y)=E(XY)−E(X)E(Y)$$ $$V(X+Y)=V(X)+V(Y)+2C(X,Y)$$\n",
    "\n",
    "##### Measures of dependence(Beroendemått)\n",
    "\n",
    "###### **Covariance(kovarians):**\n",
    "\n",
    "######  a measure of direction of the linear relationship between two variables.\n",
    "###### $$C(X,Y)=E(XY)−E(X)E(Y)$$ \n",
    "###### **C(X,Y) or Cov(X,Y) = 0:** uncorreleated (independent=> uncorrelated, but not vice versa)\n",
    "###### **positive:** X and Y tend to move together\n",
    "###### **negative:** when X is above its mean, Y is often below its mean\n",
    "\n",
    "###### **Correlation(korrelationen):** \n",
    "\n",
    "###### $$ \\rho(X,Y) = \\frac{C(X,Y)}{D(X)D(Y)} = \\frac{C(X,Y)} {\\sqrt{(V(X)V(Y))}}  $$\n",
    "###### $ -1 \\leq \\rho(X,Y) \\geq 1 $\n",
    "###### $ \\rho = 1:  $ perfect positive relation\n",
    "###### $ \\rho = -1:   $ perfect negative relation\n",
    "###### $ \\rho = 0: $ no linear relation "
   ]
  },
  {
   "cell_type": "code",
   "execution_count": null,
   "id": "267d0051",
   "metadata": {
    "vscode": {
     "languageId": "plaintext"
    }
   },
   "outputs": [],
   "source": []
  }
 ],
 "metadata": {
  "language_info": {
   "name": "python"
  }
 },
 "nbformat": 4,
 "nbformat_minor": 5
}
